{
 "cells": [
  {
   "cell_type": "code",
   "execution_count": 1,
   "metadata": {},
   "outputs": [],
   "source": [
    "\n",
    "import pandas as pd\n",
    "import numpy as np\n",
    "%matplotlib inline\n",
    "import matplotlib.pyplot as plt\n",
    "import seaborn as sns\n",
    "from wordcloud import WordCloud\n",
    "from PIL import Image\n",
    "\n",
    "import re\n",
    "import os\n",
    "from nltk.tokenize import WordPunctTokenizer\n",
    "from bs4 import BeautifulSoup\n",
    "from nltk.corpus import stopwords\n",
    "\n",
    "from sklearn.model_selection import train_test_split\n",
    "from tensorflow.keras.utils import to_categorical\n",
    "import math\n",
    "from tensorflow.keras.layers import Embedding\n",
    "from tensorflow.keras.preprocessing.text import Tokenizer\n",
    "from tensorflow.keras.preprocessing.text import text_to_word_sequence\n",
    "%matplotlib inline"
   ]
  },
  {
   "cell_type": "code",
   "execution_count": 2,
   "metadata": {},
   "outputs": [],
   "source": [
    "#pip install --upgrade tensorflow "
   ]
  },
  {
   "cell_type": "code",
   "execution_count": 3,
   "metadata": {},
   "outputs": [],
   "source": [
    "data=pd.read_csv(\"Tweets.csv\")\n"
   ]
  },
  {
   "cell_type": "code",
   "execution_count": 4,
   "metadata": {},
   "outputs": [],
   "source": [
    "data['airline_sentiment'] = data['airline_sentiment'].replace('neutral', 1)\n",
    "data['airline_sentiment'] = data['airline_sentiment'].replace('negative', 0)\n",
    "data['airline_sentiment'] = data['airline_sentiment'].replace('positive', 2)\n",
    "\n",
    "X = data['text']\n",
    "y = data['airline_sentiment']"
   ]
  },
  {
   "cell_type": "code",
   "execution_count": 5,
   "metadata": {},
   "outputs": [],
   "source": [
    "t = Tokenizer()\n",
    "t.fit_on_texts(X)\n",
    "vocab_size = len(t.word_index) + 1\n",
    "sequences = t.texts_to_sequences(X)"
   ]
  },
  {
   "cell_type": "code",
   "execution_count": 6,
   "metadata": {},
   "outputs": [],
   "source": [
    "def max_tweet():\n",
    "    for i in range(1, len(sequences)):\n",
    "        max_length = len(sequences[0])\n",
    "        if len(sequences[i]) > max_length:\n",
    "            max_length = len(sequences[i])\n",
    "    return max_length"
   ]
  },
  {
   "cell_type": "code",
   "execution_count": 7,
   "metadata": {},
   "outputs": [
    {
     "data": {
      "text/plain": [
       "30"
      ]
     },
     "execution_count": 7,
     "metadata": {},
     "output_type": "execute_result"
    }
   ],
   "source": [
    "tweet_num = max_tweet()\n",
    "tweet_num"
   ]
  },
  {
   "cell_type": "code",
   "execution_count": 8,
   "metadata": {},
   "outputs": [],
   "source": [
    "from tensorflow.keras.preprocessing.sequence import pad_sequences\n",
    "maxlen = tweet_num\n",
    "padded_X = pad_sequences(sequences, padding='post', maxlen=maxlen)"
   ]
  },
  {
   "cell_type": "code",
   "execution_count": 9,
   "metadata": {},
   "outputs": [],
   "source": [
    "labels = to_categorical(np.asarray(y))"
   ]
  },
  {
   "cell_type": "code",
   "execution_count": 10,
   "metadata": {},
   "outputs": [],
   "source": [
    "from sklearn.model_selection import train_test_split\n",
    "\n",
    "X_train, X_test, y_train, y_test = train_test_split(padded_X, labels, test_size = 0.2, random_state = 0)"
   ]
  },
  {
   "cell_type": "code",
   "execution_count": 11,
   "metadata": {},
   "outputs": [
    {
     "name": "stdout",
     "output_type": "stream",
     "text": [
      "X_train size: (11712, 30)\n",
      "y_train size: (11712, 3)\n",
      "X_test size: (2928, 30)\n",
      "y_test size: (2928, 3)\n"
     ]
    }
   ],
   "source": [
    "print('X_train size:', X_train.shape)\n",
    "print('y_train size:', y_train.shape)\n",
    "print('X_test size:', X_test.shape)\n",
    "print('y_test size:', y_test.shape)"
   ]
  },
  {
   "cell_type": "code",
   "execution_count": 12,
   "metadata": {},
   "outputs": [
    {
     "name": "stdout",
     "output_type": "stream",
     "text": [
      "Loaded 400000 word vectors.\n"
     ]
    }
   ],
   "source": [
    "embeddings_index = dict()\n",
    "f = open('glove.6B.100d.txt',encoding=\"utf8\")\n",
    "for line in f:\n",
    "    values = line.split()\n",
    "    word = values[0]\n",
    "    coefs = np.asarray(values[1:], dtype='float32')\n",
    "    embeddings_index[word] = coefs\n",
    "f.close()\n",
    "print('Loaded %s word vectors.' % len(embeddings_index))"
   ]
  },
  {
   "cell_type": "code",
   "execution_count": 13,
   "metadata": {},
   "outputs": [],
   "source": [
    "embedding_matrix = np.zeros((vocab_size, 100))\n",
    "\n",
    "# fill in matrix\n",
    "for word, i in t.word_index.items():\n",
    "    embedding_vector = embeddings_index.get(word)\n",
    "    if embedding_vector is not None:\n",
    "        # add to matrix\n",
    "        embedding_matrix[i] = embedding_vector"
   ]
  },
  {
   "cell_type": "code",
   "execution_count": 14,
   "metadata": {},
   "outputs": [],
   "source": [
    "from tensorflow.keras.layers import Embedding\n",
    "\n",
    "# input is vocab_size, output is 100\n",
    "# weights from embedding matrix, set trainable = False\n",
    "embedding_layer = Embedding(input_dim=vocab_size, output_dim=100, weights=[embedding_matrix],\n",
    "                           input_length = tweet_num, trainable=False)"
   ]
  },
  {
   "cell_type": "code",
   "execution_count": 15,
   "metadata": {},
   "outputs": [],
   "source": [
    "from tensorflow.keras.models import Sequential\n",
    "from tensorflow.keras.layers import Dense\n",
    "from tensorflow.keras.layers import Flatten\n",
    "from tensorflow.keras.layers import LSTM\n",
    "from tensorflow.keras.layers import GRU\n",
    "from tensorflow.keras.layers import BatchNormalization"
   ]
  },
  {
   "cell_type": "markdown",
   "metadata": {},
   "source": [
    "# Model 1: Simple LSTM Model with regularization"
   ]
  },
  {
   "cell_type": "code",
   "execution_count": 16,
   "metadata": {},
   "outputs": [
    {
     "name": "stdout",
     "output_type": "stream",
     "text": [
      "Model: \"sequential\"\n",
      "_________________________________________________________________\n",
      " Layer (type)                Output Shape              Param #   \n",
      "=================================================================\n",
      " embedding (Embedding)       (None, 30, 100)           1576900   \n",
      "                                                                 \n",
      " lstm (LSTM)                 (None, 256)               365568    \n",
      "                                                                 \n",
      " dense (Dense)               (None, 3)                 771       \n",
      "                                                                 \n",
      "=================================================================\n",
      "Total params: 1,943,239\n",
      "Trainable params: 366,339\n",
      "Non-trainable params: 1,576,900\n",
      "_________________________________________________________________\n"
     ]
    }
   ],
   "source": [
    "lstm_mod1 = Sequential()\n",
    "lstm_mod1.add(embedding_layer)\n",
    "lstm_mod1.add(LSTM(256, \n",
    "               dropout = 0.2, \n",
    "               recurrent_dropout = 0.5))\n",
    "lstm_mod1.add(Dense(3, activation='softmax'))\n",
    "lstm_mod1.compile(optimizer='adam', loss='categorical_crossentropy', metrics=['acc'])\n",
    "lstm_mod1.summary()"
   ]
  },
  {
   "cell_type": "code",
   "execution_count": 17,
   "metadata": {},
   "outputs": [
    {
     "name": "stdout",
     "output_type": "stream",
     "text": [
      "Epoch 1/100\n",
      "37/37 [==============================] - 56s 994ms/step - loss: 0.8497 - acc: 0.6246 - val_loss: 0.7592 - val_acc: 0.6795\n",
      "Epoch 2/100\n",
      "37/37 [==============================] - 33s 891ms/step - loss: 0.7225 - acc: 0.7048 - val_loss: 0.6785 - val_acc: 0.7384\n",
      "Epoch 3/100\n",
      "37/37 [==============================] - 33s 893ms/step - loss: 0.6471 - acc: 0.7371 - val_loss: 0.6254 - val_acc: 0.7512\n",
      "Epoch 4/100\n",
      "37/37 [==============================] - 34s 914ms/step - loss: 0.6127 - acc: 0.7481 - val_loss: 0.6089 - val_acc: 0.7533\n",
      "Epoch 5/100\n",
      "37/37 [==============================] - 32s 879ms/step - loss: 0.6061 - acc: 0.7516 - val_loss: 0.5651 - val_acc: 0.7772\n",
      "Epoch 6/100\n",
      "37/37 [==============================] - 35s 949ms/step - loss: 0.5857 - acc: 0.7619 - val_loss: 0.6256 - val_acc: 0.7576\n",
      "Epoch 7/100\n",
      "37/37 [==============================] - 33s 896ms/step - loss: 0.5861 - acc: 0.7643 - val_loss: 0.5753 - val_acc: 0.7700\n",
      "Epoch 8/100\n",
      "37/37 [==============================] - 35s 947ms/step - loss: 0.5518 - acc: 0.7717 - val_loss: 0.5433 - val_acc: 0.7870\n",
      "Epoch 9/100\n",
      "37/37 [==============================] - 33s 896ms/step - loss: 0.5382 - acc: 0.7822 - val_loss: 0.5422 - val_acc: 0.7875\n",
      "Epoch 10/100\n",
      "37/37 [==============================] - 32s 870ms/step - loss: 0.5304 - acc: 0.7831 - val_loss: 0.5533 - val_acc: 0.7909\n",
      "Epoch 11/100\n",
      "37/37 [==============================] - 32s 871ms/step - loss: 0.5171 - acc: 0.7902 - val_loss: 0.5279 - val_acc: 0.7921\n",
      "Epoch 12/100\n",
      "37/37 [==============================] - 33s 885ms/step - loss: 0.5150 - acc: 0.7949 - val_loss: 0.5423 - val_acc: 0.7870\n",
      "Epoch 13/100\n",
      "37/37 [==============================] - 33s 887ms/step - loss: 0.4929 - acc: 0.7998 - val_loss: 0.5440 - val_acc: 0.7832\n",
      "Epoch 14/100\n",
      "37/37 [==============================] - 33s 885ms/step - loss: 0.4916 - acc: 0.8062 - val_loss: 0.5654 - val_acc: 0.7840\n",
      "Epoch 15/100\n",
      "37/37 [==============================] - 33s 901ms/step - loss: 0.4781 - acc: 0.8050 - val_loss: 0.5354 - val_acc: 0.7845\n",
      "Epoch 16/100\n",
      "37/37 [==============================] - 32s 868ms/step - loss: 0.4609 - acc: 0.8175 - val_loss: 0.5524 - val_acc: 0.8024\n",
      "Epoch 17/100\n",
      "37/37 [==============================] - 33s 886ms/step - loss: 0.4555 - acc: 0.8191 - val_loss: 0.5258 - val_acc: 0.8007\n",
      "Epoch 18/100\n",
      "37/37 [==============================] - 33s 881ms/step - loss: 0.4497 - acc: 0.8223 - val_loss: 0.5011 - val_acc: 0.8109\n",
      "Epoch 19/100\n",
      "37/37 [==============================] - 33s 892ms/step - loss: 0.4413 - acc: 0.8245 - val_loss: 0.5354 - val_acc: 0.7704\n",
      "Epoch 20/100\n",
      "37/37 [==============================] - 34s 926ms/step - loss: 0.4275 - acc: 0.8341 - val_loss: 0.5104 - val_acc: 0.8054\n",
      "Epoch 21/100\n",
      "37/37 [==============================] - 34s 929ms/step - loss: 0.4203 - acc: 0.8330 - val_loss: 0.5096 - val_acc: 0.8011\n",
      "Epoch 22/100\n",
      "37/37 [==============================] - 33s 888ms/step - loss: 0.4166 - acc: 0.8331 - val_loss: 0.5923 - val_acc: 0.7964\n",
      "Epoch 23/100\n",
      "37/37 [==============================] - 34s 910ms/step - loss: 0.3992 - acc: 0.8387 - val_loss: 0.5547 - val_acc: 0.8075\n",
      "Epoch 24/100\n",
      "37/37 [==============================] - 34s 925ms/step - loss: 0.3955 - acc: 0.8444 - val_loss: 0.5543 - val_acc: 0.7883\n",
      "Epoch 25/100\n",
      "37/37 [==============================] - 34s 913ms/step - loss: 0.3801 - acc: 0.8505 - val_loss: 0.5266 - val_acc: 0.7994\n",
      "Epoch 26/100\n",
      "37/37 [==============================] - 33s 883ms/step - loss: 0.3728 - acc: 0.8524 - val_loss: 0.5670 - val_acc: 0.7704\n",
      "Epoch 27/100\n",
      "37/37 [==============================] - 33s 899ms/step - loss: 0.3639 - acc: 0.8563 - val_loss: 0.5483 - val_acc: 0.7926\n",
      "Epoch 28/100\n",
      "37/37 [==============================] - 33s 894ms/step - loss: 0.3562 - acc: 0.8623 - val_loss: 0.5501 - val_acc: 0.8114\n",
      "Epoch 29/100\n",
      "37/37 [==============================] - 34s 911ms/step - loss: 0.3420 - acc: 0.8647 - val_loss: 0.5372 - val_acc: 0.8041\n",
      "Epoch 30/100\n",
      "37/37 [==============================] - 33s 903ms/step - loss: 0.3408 - acc: 0.8637 - val_loss: 0.5714 - val_acc: 0.8041\n",
      "Epoch 31/100\n",
      "37/37 [==============================] - 33s 907ms/step - loss: 0.3287 - acc: 0.8694 - val_loss: 0.5609 - val_acc: 0.8050\n",
      "Epoch 32/100\n",
      "37/37 [==============================] - 35s 936ms/step - loss: 0.3264 - acc: 0.8704 - val_loss: 0.5879 - val_acc: 0.7917\n",
      "Epoch 33/100\n",
      "37/37 [==============================] - 37s 991ms/step - loss: 0.3052 - acc: 0.8832 - val_loss: 0.6288 - val_acc: 0.8045\n",
      "Epoch 34/100\n",
      "37/37 [==============================] - 39s 1s/step - loss: 0.3069 - acc: 0.8826 - val_loss: 0.6052 - val_acc: 0.7990\n",
      "Epoch 35/100\n",
      "37/37 [==============================] - 44s 1s/step - loss: 0.3076 - acc: 0.8795 - val_loss: 0.6021 - val_acc: 0.7934\n",
      "Epoch 36/100\n",
      "37/37 [==============================] - 43s 1s/step - loss: 0.2803 - acc: 0.8902 - val_loss: 0.6183 - val_acc: 0.8011\n",
      "Epoch 37/100\n",
      "37/37 [==============================] - 46s 1s/step - loss: 0.2858 - acc: 0.8853 - val_loss: 0.6509 - val_acc: 0.7998\n",
      "Epoch 38/100\n",
      "37/37 [==============================] - 42s 1s/step - loss: 0.2763 - acc: 0.8948 - val_loss: 0.6117 - val_acc: 0.7875\n",
      "Epoch 39/100\n",
      "37/37 [==============================] - 39s 1s/step - loss: 0.2712 - acc: 0.8960 - val_loss: 0.6117 - val_acc: 0.8020\n",
      "Epoch 40/100\n",
      "37/37 [==============================] - 39s 1s/step - loss: 0.2561 - acc: 0.8998 - val_loss: 0.6591 - val_acc: 0.7968\n",
      "Epoch 41/100\n",
      "37/37 [==============================] - 39s 1s/step - loss: 0.2494 - acc: 0.9044 - val_loss: 0.6083 - val_acc: 0.8084\n",
      "Epoch 42/100\n",
      "37/37 [==============================] - 38s 1s/step - loss: 0.2448 - acc: 0.9091 - val_loss: 0.6154 - val_acc: 0.7968\n",
      "Epoch 43/100\n",
      "37/37 [==============================] - 37s 1s/step - loss: 0.2250 - acc: 0.9160 - val_loss: 0.6414 - val_acc: 0.8075\n",
      "Epoch 44/100\n",
      "37/37 [==============================] - 36s 973ms/step - loss: 0.2270 - acc: 0.9166 - val_loss: 0.6479 - val_acc: 0.8032\n",
      "Epoch 45/100\n",
      "37/37 [==============================] - 36s 984ms/step - loss: 0.2169 - acc: 0.9153 - val_loss: 0.6591 - val_acc: 0.8079\n",
      "Epoch 46/100\n",
      "37/37 [==============================] - 36s 985ms/step - loss: 0.2203 - acc: 0.9175 - val_loss: 0.7550 - val_acc: 0.8032\n",
      "Epoch 47/100\n",
      "37/37 [==============================] - 39s 1s/step - loss: 0.2035 - acc: 0.9252 - val_loss: 0.7277 - val_acc: 0.8024\n",
      "Epoch 48/100\n",
      "37/37 [==============================] - 24s 642ms/step - loss: 0.2107 - acc: 0.9206 - val_loss: 0.7003 - val_acc: 0.8032\n",
      "Epoch 49/100\n",
      "37/37 [==============================] - 21s 570ms/step - loss: 0.1941 - acc: 0.9301 - val_loss: 0.7399 - val_acc: 0.7968\n",
      "Epoch 50/100\n",
      "37/37 [==============================] - 20s 548ms/step - loss: 0.1898 - acc: 0.9290 - val_loss: 0.7522 - val_acc: 0.8037\n",
      "Epoch 51/100\n",
      "37/37 [==============================] - 21s 556ms/step - loss: 0.1833 - acc: 0.9345 - val_loss: 0.7398 - val_acc: 0.8032\n",
      "Epoch 52/100\n",
      "37/37 [==============================] - 21s 567ms/step - loss: 0.1828 - acc: 0.9300 - val_loss: 0.7132 - val_acc: 0.7939\n",
      "Epoch 53/100\n",
      "37/37 [==============================] - 27s 719ms/step - loss: 0.1713 - acc: 0.9382 - val_loss: 0.7412 - val_acc: 0.7870\n",
      "Epoch 54/100\n",
      "37/37 [==============================] - 22s 605ms/step - loss: 0.1796 - acc: 0.9308 - val_loss: 0.7306 - val_acc: 0.7896\n",
      "Epoch 55/100\n",
      "37/37 [==============================] - 21s 574ms/step - loss: 0.1649 - acc: 0.9400 - val_loss: 0.8263 - val_acc: 0.7913\n",
      "Epoch 56/100\n",
      "37/37 [==============================] - 21s 578ms/step - loss: 0.1656 - acc: 0.9395 - val_loss: 0.7828 - val_acc: 0.7909\n",
      "Epoch 57/100\n",
      "37/37 [==============================] - 20s 535ms/step - loss: 0.1610 - acc: 0.9389 - val_loss: 0.7839 - val_acc: 0.7930\n",
      "Epoch 58/100\n",
      "37/37 [==============================] - 20s 533ms/step - loss: 0.1461 - acc: 0.9460 - val_loss: 0.8974 - val_acc: 0.7939\n",
      "Epoch 59/100\n",
      "37/37 [==============================] - 20s 537ms/step - loss: 0.1532 - acc: 0.9441 - val_loss: 0.8164 - val_acc: 0.7853\n",
      "Epoch 60/100\n",
      "37/37 [==============================] - 20s 535ms/step - loss: 0.1382 - acc: 0.9484 - val_loss: 0.7949 - val_acc: 0.7973\n",
      "Epoch 61/100\n",
      "37/37 [==============================] - 20s 541ms/step - loss: 0.1419 - acc: 0.9492 - val_loss: 0.8429 - val_acc: 0.7960\n",
      "Epoch 62/100\n",
      "37/37 [==============================] - 20s 547ms/step - loss: 0.1261 - acc: 0.9538 - val_loss: 0.8468 - val_acc: 0.7875\n",
      "Epoch 63/100\n",
      "37/37 [==============================] - 20s 528ms/step - loss: 0.1414 - acc: 0.9495 - val_loss: 0.8085 - val_acc: 0.7870\n",
      "Epoch 64/100\n",
      "37/37 [==============================] - 21s 558ms/step - loss: 0.1302 - acc: 0.9541 - val_loss: 0.9246 - val_acc: 0.7947\n",
      "Epoch 65/100\n",
      "37/37 [==============================] - 20s 543ms/step - loss: 0.1179 - acc: 0.9553 - val_loss: 0.8948 - val_acc: 0.7956\n",
      "Epoch 66/100\n",
      "37/37 [==============================] - 20s 538ms/step - loss: 0.1262 - acc: 0.9539 - val_loss: 0.8826 - val_acc: 0.7729\n",
      "Epoch 67/100\n",
      "37/37 [==============================] - 22s 590ms/step - loss: 0.1223 - acc: 0.9569 - val_loss: 0.9027 - val_acc: 0.7798\n",
      "Epoch 68/100\n",
      "37/37 [==============================] - 20s 543ms/step - loss: 0.1207 - acc: 0.9558 - val_loss: 0.8760 - val_acc: 0.7904\n",
      "Epoch 69/100\n",
      "37/37 [==============================] - 20s 542ms/step - loss: 0.1170 - acc: 0.9571 - val_loss: 0.9234 - val_acc: 0.7956\n",
      "Epoch 70/100\n",
      "37/37 [==============================] - 21s 562ms/step - loss: 0.1212 - acc: 0.9530 - val_loss: 0.8660 - val_acc: 0.7862\n",
      "Epoch 71/100\n",
      "37/37 [==============================] - 21s 578ms/step - loss: 0.1126 - acc: 0.9593 - val_loss: 0.8715 - val_acc: 0.7973\n",
      "Epoch 72/100\n",
      "37/37 [==============================] - 20s 546ms/step - loss: 0.1086 - acc: 0.9619 - val_loss: 0.9805 - val_acc: 0.7845\n",
      "Epoch 73/100\n",
      "37/37 [==============================] - 20s 549ms/step - loss: 0.1055 - acc: 0.9622 - val_loss: 0.9371 - val_acc: 0.7768\n",
      "Epoch 74/100\n",
      "37/37 [==============================] - 20s 542ms/step - loss: 0.1070 - acc: 0.9609 - val_loss: 0.9507 - val_acc: 0.8015\n",
      "Epoch 75/100\n",
      "37/37 [==============================] - 20s 546ms/step - loss: 0.0990 - acc: 0.9650 - val_loss: 0.9878 - val_acc: 0.7985\n",
      "Epoch 76/100\n",
      "37/37 [==============================] - 20s 544ms/step - loss: 0.0924 - acc: 0.9652 - val_loss: 1.0365 - val_acc: 0.7930\n",
      "Epoch 77/100\n",
      "37/37 [==============================] - 20s 552ms/step - loss: 0.1082 - acc: 0.9595 - val_loss: 0.9883 - val_acc: 0.7930\n",
      "Epoch 78/100\n",
      "37/37 [==============================] - 20s 543ms/step - loss: 0.0896 - acc: 0.9680 - val_loss: 1.0022 - val_acc: 0.7900\n",
      "Epoch 79/100\n",
      "37/37 [==============================] - 20s 543ms/step - loss: 0.1080 - acc: 0.9606 - val_loss: 0.9257 - val_acc: 0.7951\n",
      "Epoch 80/100\n",
      "37/37 [==============================] - 21s 562ms/step - loss: 0.0900 - acc: 0.9669 - val_loss: 1.0154 - val_acc: 0.7875\n",
      "Epoch 81/100\n",
      "37/37 [==============================] - 23s 638ms/step - loss: 0.0989 - acc: 0.9661 - val_loss: 0.9095 - val_acc: 0.7896\n",
      "Epoch 82/100\n",
      "37/37 [==============================] - 23s 625ms/step - loss: 0.0930 - acc: 0.9681 - val_loss: 1.0159 - val_acc: 0.7947\n",
      "Epoch 83/100\n",
      "37/37 [==============================] - 22s 593ms/step - loss: 0.0848 - acc: 0.9694 - val_loss: 1.0438 - val_acc: 0.7934\n",
      "Epoch 84/100\n",
      "37/37 [==============================] - 20s 554ms/step - loss: 0.0881 - acc: 0.9689 - val_loss: 1.0301 - val_acc: 0.7947\n",
      "Epoch 85/100\n",
      "37/37 [==============================] - 21s 565ms/step - loss: 0.0898 - acc: 0.9695 - val_loss: 1.0040 - val_acc: 0.7862\n",
      "Epoch 86/100\n",
      "37/37 [==============================] - 20s 548ms/step - loss: 0.0849 - acc: 0.9706 - val_loss: 1.1208 - val_acc: 0.7990\n",
      "Epoch 87/100\n",
      "37/37 [==============================] - 20s 548ms/step - loss: 0.0788 - acc: 0.9720 - val_loss: 1.0353 - val_acc: 0.7900\n",
      "Epoch 88/100\n",
      "37/37 [==============================] - 21s 561ms/step - loss: 0.0868 - acc: 0.9692 - val_loss: 1.0457 - val_acc: 0.7823\n",
      "Epoch 89/100\n",
      "37/37 [==============================] - 20s 548ms/step - loss: 0.0859 - acc: 0.9686 - val_loss: 1.0749 - val_acc: 0.7866\n",
      "Epoch 90/100\n",
      "37/37 [==============================] - 21s 561ms/step - loss: 0.0821 - acc: 0.9699 - val_loss: 1.0166 - val_acc: 0.7947\n",
      "Epoch 91/100\n",
      "37/37 [==============================] - 21s 566ms/step - loss: 0.0806 - acc: 0.9721 - val_loss: 1.0112 - val_acc: 0.7939\n",
      "Epoch 92/100\n",
      "37/37 [==============================] - 20s 547ms/step - loss: 0.0748 - acc: 0.9741 - val_loss: 1.0166 - val_acc: 0.7951\n",
      "Epoch 93/100\n",
      "37/37 [==============================] - 22s 595ms/step - loss: 0.0698 - acc: 0.9757 - val_loss: 1.0236 - val_acc: 0.7892\n",
      "Epoch 94/100\n",
      "37/37 [==============================] - 23s 615ms/step - loss: 0.0784 - acc: 0.9730 - val_loss: 1.0183 - val_acc: 0.7985\n",
      "Epoch 95/100\n",
      "37/37 [==============================] - 21s 557ms/step - loss: 0.0695 - acc: 0.9744 - val_loss: 1.0279 - val_acc: 0.7939\n",
      "Epoch 96/100\n",
      "37/37 [==============================] - 21s 581ms/step - loss: 0.0738 - acc: 0.9736 - val_loss: 0.9977 - val_acc: 0.8024\n",
      "Epoch 97/100\n",
      "37/37 [==============================] - 22s 595ms/step - loss: 0.0620 - acc: 0.9783 - val_loss: 1.1158 - val_acc: 0.7956\n",
      "Epoch 98/100\n",
      "37/37 [==============================] - 22s 584ms/step - loss: 0.0761 - acc: 0.9738 - val_loss: 0.9756 - val_acc: 0.8011\n",
      "Epoch 99/100\n",
      "37/37 [==============================] - 21s 561ms/step - loss: 0.0681 - acc: 0.9763 - val_loss: 1.1130 - val_acc: 0.7973\n",
      "Epoch 100/100\n",
      "37/37 [==============================] - 22s 586ms/step - loss: 0.0658 - acc: 0.9776 - val_loss: 1.0558 - val_acc: 0.7947\n"
     ]
    }
   ],
   "source": [
    "hist_1 = lstm_mod1.fit(X_train, y_train,\n",
    "                    validation_split = 0.2,\n",
    "                    epochs=100, batch_size=256)"
   ]
  },
  {
   "cell_type": "code",
   "execution_count": 18,
   "metadata": {},
   "outputs": [
    {
     "name": "stdout",
     "output_type": "stream",
     "text": [
      "Training Accuracy: 0.9544\n",
      "Testing Accuracy:  0.7879\n"
     ]
    }
   ],
   "source": [
    "# Find train and test accuracy\n",
    "loss, accuracy = lstm_mod1.evaluate(X_train, y_train, verbose=False)\n",
    "print(\"Training Accuracy: {:.4f}\".format(accuracy))\n",
    "loss, accuracy = lstm_mod1.evaluate(X_test, y_test, verbose=False)\n",
    "print(\"Testing Accuracy:  {:.4f}\".format(accuracy))"
   ]
  },
  {
   "cell_type": "code",
   "execution_count": 19,
   "metadata": {},
   "outputs": [
    {
     "data": {
      "image/png": "[encoded data removed]",
      "text/plain": [
       "<Figure size 432x288 with 1 Axes>"
      ]
     },
     "metadata": {
      "needs_background": "light"
     },
     "output_type": "display_data"
    },
    {
     "data": {
      "image/png": "[encoded data removed]",
      "text/plain": [
       "<Figure size 432x288 with 1 Axes>"
      ]
     },
     "metadata": {
      "needs_background": "light"
     },
     "output_type": "display_data"
    }
   ],
   "source": [
    "# Plot train/test loss and accuracy\n",
    "acc = hist_1.history['acc']\n",
    "val_acc = hist_1.history['val_acc']\n",
    "loss = hist_1.history['loss']\n",
    "val_loss = hist_1.history['val_loss']\n",
    "\n",
    "epochs = range(len(acc))\n",
    "\n",
    "plt.plot(epochs, acc, 'g', label='Training acc')\n",
    "plt.plot(epochs, val_acc, 'b', label='Validation acc')\n",
    "plt.title('Training and validation accuracy')\n",
    "plt.legend()\n",
    "\n",
    "plt.figure()\n",
    "\n",
    "plt.plot(epochs, loss, 'g', label='Training loss')\n",
    "plt.plot(epochs, val_loss, 'b', label='Validation loss')\n",
    "plt.title('Training and validation loss')\n",
    "plt.legend()\n",
    "\n",
    "plt.show()"
   ]
  },
  {
   "cell_type": "code",
   "execution_count": 20,
   "metadata": {},
   "outputs": [],
   "source": [
    "# Confusion matrix\n",
    "from sklearn.metrics import confusion_matrix\n",
    "from sklearn.utils.multiclass import unique_labels"
   ]
  },
  {
   "cell_type": "code",
   "execution_count": 21,
   "metadata": {},
   "outputs": [],
   "source": [
    "# Get predicted values\n",
    "y_pred = lstm_mod1.predict(X_test)  # outputs probabilities of each sentiment\n",
    "# Create empty numpy array to match length of training observations\n",
    "y_pred_array = np.zeros(X_test.shape[0])\n",
    "\n",
    "# Find class with highest probability\n",
    "for i in range(0, y_pred.shape[0]):\n",
    "    label_predict = np.argmax(y_pred[i]) # column with max probability\n",
    "    y_pred_array[i] = label_predict\n",
    "\n",
    "# convert to integers\n",
    "y_pred_array = y_pred_array.astype(int)"
   ]
  },
  {
   "cell_type": "code",
   "execution_count": 22,
   "metadata": {},
   "outputs": [],
   "source": [
    "# Convert y_test to 1d numpy array\n",
    "y_test_array = np.zeros(X_test.shape[0])\n",
    "\n",
    "# Find class with 1\n",
    "for i in range(0, y_test.shape[0]):\n",
    "    label_predict = np.argmax(y_test[i])\n",
    "    y_test_array[i] = label_predict\n",
    "\n",
    "y_test_array = y_test_array.astype(int)"
   ]
  },
  {
   "cell_type": "code",
   "execution_count": 23,
   "metadata": {},
   "outputs": [],
   "source": [
    "class_names = np.array(['Negative', 'Neutral', 'Positive'])"
   ]
  },
  {
   "cell_type": "code",
   "execution_count": 24,
   "metadata": {},
   "outputs": [
    {
     "name": "stdout",
     "output_type": "stream",
     "text": [
      "Confusion matrix, without normalization\n",
      "[[1635  164   71]\n",
      " [ 202  350   62]\n",
      " [  81   41  322]]\n",
      "Normalized confusion matrix\n",
      "[[0.87 0.09 0.04]\n",
      " [0.33 0.57 0.1 ]\n",
      " [0.18 0.09 0.73]]\n"
     ]
    },
    {
     "data": {
      "image/png": "[encoded data removed]",
      "text/plain": [
       "<Figure size 432x288 with 2 Axes>"
      ]
     },
     "metadata": {
      "needs_background": "light"
     },
     "output_type": "display_data"
    },
    {
     "data": {
      "image/png": "[encoded data removed]",
      "text/plain": [
       "<Figure size 432x288 with 2 Axes>"
      ]
     },
     "metadata": {
      "needs_background": "light"
     },
     "output_type": "display_data"
    }
   ],
   "source": [
    "def plot_confusion_matrix(y_true, y_pred, classes,\n",
    "                          normalize=False,\n",
    "                          title=None,\n",
    "                          cmap=plt.cm.Blues):\n",
    "    \"\"\"\n",
    "    This function prints and plots the confusion matrix.\n",
    "    Normalization can be applied by setting `normalize=True`.\n",
    "    \"\"\"\n",
    "    if not title:\n",
    "        if normalize:\n",
    "            title = 'Normalized confusion matrix'\n",
    "        else:\n",
    "            title = 'Confusion matrix, without normalization'\n",
    "\n",
    "    # Compute confusion matrix\n",
    "    cm = confusion_matrix(y_true, y_pred)\n",
    "    # Only use the labels that appear in the data\n",
    "    classes = classes[unique_labels(y_true, y_pred)]\n",
    "    if normalize:\n",
    "        cm = cm.astype('float') / cm.sum(axis=1)[:, np.newaxis]\n",
    "        print(\"Normalized confusion matrix\")\n",
    "    else:\n",
    "        print('Confusion matrix, without normalization')\n",
    "\n",
    "    print(cm)\n",
    "\n",
    "    fig, ax = plt.subplots()\n",
    "    im = ax.imshow(cm, interpolation='nearest', cmap=cmap)\n",
    "    ax.figure.colorbar(im, ax=ax)\n",
    "    # We want to show all ticks...\n",
    "    ax.set(xticks=np.arange(cm.shape[1]),\n",
    "           yticks=np.arange(cm.shape[0]),\n",
    "           # ... and label them with the respective list entries\n",
    "           xticklabels=classes, yticklabels=classes,\n",
    "           title=title,\n",
    "           ylabel='True label',\n",
    "           xlabel='Predicted label')\n",
    "\n",
    "    # Rotate the tick labels and set their alignment.\n",
    "    plt.setp(ax.get_xticklabels(), rotation=45, ha=\"right\",\n",
    "             rotation_mode=\"anchor\")\n",
    "\n",
    "    # Loop over data dimensions and create text annotations.\n",
    "    fmt = '.2f' if normalize else 'd'\n",
    "    thresh = cm.max() / 2.\n",
    "    for i in range(cm.shape[0]):\n",
    "        for j in range(cm.shape[1]):\n",
    "            ax.text(j, i, format(cm[i, j], fmt),\n",
    "                    ha=\"center\", va=\"center\",\n",
    "                    color=\"white\" if cm[i, j] > thresh else \"black\")\n",
    "    fig.tight_layout()\n",
    "    return ax\n",
    "\n",
    "\n",
    "np.set_printoptions(precision=2)\n",
    "\n",
    "# Plot non-normalized confusion matrix\n",
    "plot_confusion_matrix(y_test_array, y_pred_array, classes=class_names,\n",
    "                      title='Confusion matrix, without normalization')\n",
    "\n",
    "# Plot normalized confusion matrix\n",
    "plot_confusion_matrix(y_test_array, y_pred_array, classes=class_names, normalize=True,\n",
    "                      title='Normalized confusion matrix')\n",
    "\n",
    "plt.show()"
   ]
  },
  {
   "cell_type": "markdown",
   "metadata": {},
   "source": [
    "# Model 2: LSTM with regularization, reduce dimensionality"
   ]
  },
  {
   "cell_type": "code",
   "execution_count": 25,
   "metadata": {},
   "outputs": [
    {
     "name": "stdout",
     "output_type": "stream",
     "text": [
      "Model: \"sequential_1\"\n",
      "_________________________________________________________________\n",
      " Layer (type)                Output Shape              Param #   \n",
      "=================================================================\n",
      " embedding (Embedding)       (None, 30, 100)           1576900   \n",
      "                                                                 \n",
      " lstm_1 (LSTM)               (None, 64)                42240     \n",
      "                                                                 \n",
      " dense_1 (Dense)             (None, 3)                 195       \n",
      "                                                                 \n",
      "=================================================================\n",
      "Total params: 1,619,335\n",
      "Trainable params: 42,435\n",
      "Non-trainable params: 1,576,900\n",
      "_________________________________________________________________\n"
     ]
    }
   ],
   "source": [
    "lstm_mod2 = Sequential()\n",
    "lstm_mod2.add(embedding_layer)\n",
    "lstm_mod2.add(LSTM(64, \n",
    "               dropout = 0.2, \n",
    "               recurrent_dropout = 0.5))\n",
    "lstm_mod2.add(Dense(3, activation='softmax'))\n",
    "lstm_mod2.compile(optimizer='adam', loss='categorical_crossentropy', metrics=['acc'])\n",
    "lstm_mod2.summary()"
   ]
  },
  {
   "cell_type": "code",
   "execution_count": 26,
   "metadata": {},
   "outputs": [
    {
     "name": "stdout",
     "output_type": "stream",
     "text": [
      "Epoch 1/100\n",
      "37/37 [==============================] - 10s 169ms/step - loss: 0.8903 - acc: 0.5994 - val_loss: 0.8463 - val_acc: 0.6176\n",
      "Epoch 2/100\n",
      "37/37 [==============================] - 6s 169ms/step - loss: 0.8185 - acc: 0.6430 - val_loss: 0.7983 - val_acc: 0.6701\n",
      "Epoch 3/100\n",
      "37/37 [==============================] - 5s 137ms/step - loss: 0.7371 - acc: 0.6892 - val_loss: 0.6918 - val_acc: 0.7166\n",
      "Epoch 4/100\n",
      "37/37 [==============================] - 5s 143ms/step - loss: 0.6648 - acc: 0.7311 - val_loss: 0.6290 - val_acc: 0.7414\n",
      "Epoch 5/100\n",
      "37/37 [==============================] - 6s 164ms/step - loss: 0.6262 - acc: 0.7473 - val_loss: 0.5965 - val_acc: 0.7631\n",
      "Epoch 6/100\n",
      "37/37 [==============================] - 6s 151ms/step - loss: 0.6163 - acc: 0.7523 - val_loss: 0.5744 - val_acc: 0.7712\n",
      "Epoch 7/100\n",
      "37/37 [==============================] - 5s 146ms/step - loss: 0.5952 - acc: 0.7606 - val_loss: 0.5653 - val_acc: 0.7751\n",
      "Epoch 8/100\n",
      "37/37 [==============================] - 5s 137ms/step - loss: 0.5729 - acc: 0.7695 - val_loss: 0.5630 - val_acc: 0.7781\n",
      "Epoch 9/100\n",
      "37/37 [==============================] - 5s 134ms/step - loss: 0.5730 - acc: 0.7652 - val_loss: 0.5602 - val_acc: 0.7789\n",
      "Epoch 10/100\n",
      "37/37 [==============================] - 5s 138ms/step - loss: 0.5636 - acc: 0.7725 - val_loss: 0.5532 - val_acc: 0.7810\n",
      "Epoch 11/100\n",
      "37/37 [==============================] - 5s 142ms/step - loss: 0.5552 - acc: 0.7735 - val_loss: 0.5416 - val_acc: 0.7823\n",
      "Epoch 12/100\n",
      "37/37 [==============================] - 5s 142ms/step - loss: 0.5547 - acc: 0.7775 - val_loss: 0.5551 - val_acc: 0.7819\n",
      "Epoch 13/100\n",
      "37/37 [==============================] - 5s 140ms/step - loss: 0.5426 - acc: 0.7808 - val_loss: 0.5495 - val_acc: 0.7823\n",
      "Epoch 14/100\n",
      "37/37 [==============================] - 5s 145ms/step - loss: 0.5280 - acc: 0.7876 - val_loss: 0.5431 - val_acc: 0.7785\n",
      "Epoch 15/100\n",
      "37/37 [==============================] - 5s 142ms/step - loss: 0.5232 - acc: 0.7899 - val_loss: 0.5334 - val_acc: 0.7900\n",
      "Epoch 16/100\n",
      "37/37 [==============================] - 5s 140ms/step - loss: 0.5158 - acc: 0.7919 - val_loss: 0.5218 - val_acc: 0.7951\n",
      "Epoch 17/100\n",
      "37/37 [==============================] - 5s 144ms/step - loss: 0.5129 - acc: 0.7931 - val_loss: 0.5142 - val_acc: 0.8003\n",
      "Epoch 18/100\n",
      "37/37 [==============================] - 5s 139ms/step - loss: 0.4992 - acc: 0.7997 - val_loss: 0.5184 - val_acc: 0.7968\n",
      "Epoch 19/100\n",
      "37/37 [==============================] - 5s 139ms/step - loss: 0.4948 - acc: 0.8024 - val_loss: 0.5171 - val_acc: 0.7943\n",
      "Epoch 20/100\n",
      "37/37 [==============================] - 5s 140ms/step - loss: 0.4926 - acc: 0.8054 - val_loss: 0.5147 - val_acc: 0.7934\n",
      "Epoch 21/100\n",
      "37/37 [==============================] - 5s 142ms/step - loss: 0.4802 - acc: 0.8123 - val_loss: 0.5280 - val_acc: 0.7960\n",
      "Epoch 22/100\n",
      "37/37 [==============================] - 5s 137ms/step - loss: 0.4849 - acc: 0.8070 - val_loss: 0.5352 - val_acc: 0.7909\n",
      "Epoch 23/100\n",
      "37/37 [==============================] - 5s 140ms/step - loss: 0.4726 - acc: 0.8112 - val_loss: 0.5137 - val_acc: 0.8028\n",
      "Epoch 24/100\n",
      "37/37 [==============================] - 5s 141ms/step - loss: 0.4663 - acc: 0.8145 - val_loss: 0.5039 - val_acc: 0.8067\n",
      "Epoch 25/100\n",
      "37/37 [==============================] - 5s 136ms/step - loss: 0.4731 - acc: 0.8119 - val_loss: 0.5164 - val_acc: 0.7947\n",
      "Epoch 26/100\n",
      "37/37 [==============================] - 5s 137ms/step - loss: 0.4587 - acc: 0.8177 - val_loss: 0.5074 - val_acc: 0.8028\n",
      "Epoch 27/100\n",
      "37/37 [==============================] - 5s 140ms/step - loss: 0.4488 - acc: 0.8244 - val_loss: 0.5091 - val_acc: 0.8032\n",
      "Epoch 28/100\n",
      "37/37 [==============================] - 5s 137ms/step - loss: 0.4533 - acc: 0.8192 - val_loss: 0.5001 - val_acc: 0.7994\n",
      "Epoch 29/100\n",
      "37/37 [==============================] - 5s 143ms/step - loss: 0.4407 - acc: 0.8278 - val_loss: 0.5024 - val_acc: 0.8024\n",
      "Epoch 30/100\n",
      "37/37 [==============================] - 5s 144ms/step - loss: 0.4369 - acc: 0.8297 - val_loss: 0.5035 - val_acc: 0.8028\n",
      "Epoch 31/100\n",
      "37/37 [==============================] - 5s 137ms/step - loss: 0.4399 - acc: 0.8264 - val_loss: 0.5067 - val_acc: 0.8037\n",
      "Epoch 32/100\n",
      "37/37 [==============================] - 5s 143ms/step - loss: 0.4271 - acc: 0.8340 - val_loss: 0.5000 - val_acc: 0.8041\n",
      "Epoch 33/100\n",
      "37/37 [==============================] - 5s 142ms/step - loss: 0.4320 - acc: 0.8318 - val_loss: 0.5329 - val_acc: 0.8024\n",
      "Epoch 34/100\n",
      "37/37 [==============================] - 5s 140ms/step - loss: 0.4277 - acc: 0.8320 - val_loss: 0.5181 - val_acc: 0.8024\n",
      "Epoch 35/100\n",
      "37/37 [==============================] - 5s 146ms/step - loss: 0.4308 - acc: 0.8300 - val_loss: 0.5073 - val_acc: 0.8032\n",
      "Epoch 36/100\n",
      "37/37 [==============================] - 5s 143ms/step - loss: 0.4226 - acc: 0.8315 - val_loss: 0.5224 - val_acc: 0.8015\n",
      "Epoch 37/100\n",
      "37/37 [==============================] - 5s 137ms/step - loss: 0.4142 - acc: 0.8353 - val_loss: 0.5077 - val_acc: 0.8020\n",
      "Epoch 38/100\n",
      "37/37 [==============================] - 5s 138ms/step - loss: 0.4114 - acc: 0.8386 - val_loss: 0.5279 - val_acc: 0.7985\n",
      "Epoch 39/100\n",
      "37/37 [==============================] - 5s 141ms/step - loss: 0.4078 - acc: 0.8386 - val_loss: 0.5060 - val_acc: 0.7990\n",
      "Epoch 40/100\n",
      "37/37 [==============================] - 5s 138ms/step - loss: 0.4044 - acc: 0.8408 - val_loss: 0.5016 - val_acc: 0.8024\n",
      "Epoch 41/100\n",
      "37/37 [==============================] - 5s 138ms/step - loss: 0.3875 - acc: 0.8488 - val_loss: 0.5199 - val_acc: 0.8028\n",
      "Epoch 42/100\n",
      "37/37 [==============================] - 5s 140ms/step - loss: 0.3977 - acc: 0.8450 - val_loss: 0.5261 - val_acc: 0.8007\n",
      "Epoch 43/100\n",
      "37/37 [==============================] - 5s 135ms/step - loss: 0.4002 - acc: 0.8436 - val_loss: 0.5157 - val_acc: 0.8011\n",
      "Epoch 44/100\n",
      "37/37 [==============================] - 5s 138ms/step - loss: 0.3931 - acc: 0.8463 - val_loss: 0.5167 - val_acc: 0.8067\n",
      "Epoch 45/100\n",
      "37/37 [==============================] - 5s 139ms/step - loss: 0.3901 - acc: 0.8453 - val_loss: 0.5272 - val_acc: 0.8050\n",
      "Epoch 46/100\n",
      "37/37 [==============================] - 5s 141ms/step - loss: 0.3850 - acc: 0.8486 - val_loss: 0.5537 - val_acc: 0.7994\n",
      "Epoch 47/100\n",
      "37/37 [==============================] - 5s 137ms/step - loss: 0.3770 - acc: 0.8528 - val_loss: 0.5378 - val_acc: 0.7977\n",
      "Epoch 48/100\n",
      "37/37 [==============================] - 5s 137ms/step - loss: 0.3711 - acc: 0.8559 - val_loss: 0.5319 - val_acc: 0.7985\n",
      "Epoch 49/100\n",
      "37/37 [==============================] - 5s 139ms/step - loss: 0.3695 - acc: 0.8536 - val_loss: 0.5418 - val_acc: 0.7943\n",
      "Epoch 50/100\n",
      "37/37 [==============================] - 5s 137ms/step - loss: 0.3766 - acc: 0.8505 - val_loss: 0.5294 - val_acc: 0.7960\n",
      "Epoch 51/100\n",
      "37/37 [==============================] - 5s 140ms/step - loss: 0.3673 - acc: 0.8561 - val_loss: 0.5365 - val_acc: 0.8011\n",
      "Epoch 52/100\n",
      "37/37 [==============================] - 5s 139ms/step - loss: 0.3653 - acc: 0.8590 - val_loss: 0.5526 - val_acc: 0.8028\n",
      "Epoch 53/100\n",
      "37/37 [==============================] - 5s 142ms/step - loss: 0.3605 - acc: 0.8625 - val_loss: 0.5274 - val_acc: 0.7964\n",
      "Epoch 54/100\n",
      "37/37 [==============================] - 5s 149ms/step - loss: 0.3635 - acc: 0.8595 - val_loss: 0.5157 - val_acc: 0.7998\n",
      "Epoch 55/100\n",
      "37/37 [==============================] - 6s 153ms/step - loss: 0.3553 - acc: 0.8598 - val_loss: 0.5260 - val_acc: 0.8020\n",
      "Epoch 56/100\n",
      "37/37 [==============================] - 6s 153ms/step - loss: 0.3500 - acc: 0.8616 - val_loss: 0.5650 - val_acc: 0.8024\n",
      "Epoch 57/100\n",
      "37/37 [==============================] - 6s 150ms/step - loss: 0.3507 - acc: 0.8652 - val_loss: 0.5274 - val_acc: 0.7973\n",
      "Epoch 58/100\n",
      "37/37 [==============================] - 5s 147ms/step - loss: 0.3516 - acc: 0.8663 - val_loss: 0.5493 - val_acc: 0.8037\n",
      "Epoch 59/100\n",
      "37/37 [==============================] - 5s 146ms/step - loss: 0.3443 - acc: 0.8656 - val_loss: 0.5320 - val_acc: 0.7994\n",
      "Epoch 60/100\n",
      "37/37 [==============================] - 5s 145ms/step - loss: 0.3332 - acc: 0.8673 - val_loss: 0.5586 - val_acc: 0.8071\n",
      "Epoch 61/100\n",
      "37/37 [==============================] - 5s 140ms/step - loss: 0.3409 - acc: 0.8646 - val_loss: 0.5391 - val_acc: 0.7951\n",
      "Epoch 62/100\n",
      "37/37 [==============================] - 5s 133ms/step - loss: 0.3322 - acc: 0.8719 - val_loss: 0.5396 - val_acc: 0.7998\n",
      "Epoch 63/100\n",
      "37/37 [==============================] - 5s 137ms/step - loss: 0.3395 - acc: 0.8663 - val_loss: 0.5305 - val_acc: 0.8062\n",
      "Epoch 64/100\n",
      "37/37 [==============================] - 5s 133ms/step - loss: 0.3276 - acc: 0.8698 - val_loss: 0.5677 - val_acc: 0.7934\n",
      "Epoch 65/100\n",
      "37/37 [==============================] - 5s 133ms/step - loss: 0.3321 - acc: 0.8666 - val_loss: 0.5414 - val_acc: 0.8054\n",
      "Epoch 66/100\n",
      "37/37 [==============================] - 5s 135ms/step - loss: 0.3181 - acc: 0.8738 - val_loss: 0.5639 - val_acc: 0.7964\n",
      "Epoch 67/100\n",
      "37/37 [==============================] - 5s 136ms/step - loss: 0.3270 - acc: 0.8745 - val_loss: 0.5518 - val_acc: 0.8015\n",
      "Epoch 68/100\n",
      "37/37 [==============================] - 5s 134ms/step - loss: 0.3126 - acc: 0.8815 - val_loss: 0.5621 - val_acc: 0.8015\n",
      "Epoch 69/100\n",
      "37/37 [==============================] - 5s 137ms/step - loss: 0.3192 - acc: 0.8771 - val_loss: 0.5744 - val_acc: 0.7990\n",
      "Epoch 70/100\n",
      "37/37 [==============================] - 5s 137ms/step - loss: 0.3124 - acc: 0.8826 - val_loss: 0.5548 - val_acc: 0.7939\n",
      "Epoch 71/100\n",
      "37/37 [==============================] - 5s 135ms/step - loss: 0.3177 - acc: 0.8801 - val_loss: 0.5721 - val_acc: 0.8003\n",
      "Epoch 72/100\n",
      "37/37 [==============================] - 5s 134ms/step - loss: 0.3203 - acc: 0.8776 - val_loss: 0.5791 - val_acc: 0.7934\n",
      "Epoch 73/100\n",
      "37/37 [==============================] - 5s 137ms/step - loss: 0.3056 - acc: 0.8856 - val_loss: 0.5970 - val_acc: 0.7998\n",
      "Epoch 74/100\n",
      "37/37 [==============================] - 5s 130ms/step - loss: 0.3067 - acc: 0.8801 - val_loss: 0.5613 - val_acc: 0.7981\n",
      "Epoch 75/100\n",
      "37/37 [==============================] - 5s 135ms/step - loss: 0.3029 - acc: 0.8812 - val_loss: 0.5671 - val_acc: 0.7968\n",
      "Epoch 76/100\n",
      "37/37 [==============================] - 5s 140ms/step - loss: 0.3054 - acc: 0.8809 - val_loss: 0.5859 - val_acc: 0.8045\n",
      "Epoch 77/100\n",
      "37/37 [==============================] - 5s 132ms/step - loss: 0.3108 - acc: 0.8830 - val_loss: 0.5884 - val_acc: 0.8054\n",
      "Epoch 78/100\n",
      "37/37 [==============================] - 5s 132ms/step - loss: 0.2966 - acc: 0.8860 - val_loss: 0.5801 - val_acc: 0.8028\n",
      "Epoch 79/100\n",
      "37/37 [==============================] - 5s 135ms/step - loss: 0.2891 - acc: 0.8912 - val_loss: 0.5807 - val_acc: 0.7981\n",
      "Epoch 80/100\n",
      "37/37 [==============================] - 5s 135ms/step - loss: 0.3020 - acc: 0.8816 - val_loss: 0.5867 - val_acc: 0.8011\n",
      "Epoch 81/100\n",
      "37/37 [==============================] - 5s 134ms/step - loss: 0.2935 - acc: 0.8868 - val_loss: 0.5837 - val_acc: 0.7998\n",
      "Epoch 82/100\n",
      "37/37 [==============================] - 5s 135ms/step - loss: 0.2883 - acc: 0.8903 - val_loss: 0.6139 - val_acc: 0.8020\n",
      "Epoch 83/100\n",
      "37/37 [==============================] - 5s 136ms/step - loss: 0.2858 - acc: 0.8904 - val_loss: 0.6010 - val_acc: 0.8003\n",
      "Epoch 84/100\n",
      "37/37 [==============================] - 5s 135ms/step - loss: 0.2902 - acc: 0.8898 - val_loss: 0.5544 - val_acc: 0.7985\n",
      "Epoch 85/100\n",
      "37/37 [==============================] - 5s 132ms/step - loss: 0.2831 - acc: 0.8926 - val_loss: 0.6452 - val_acc: 0.7998\n",
      "Epoch 86/100\n",
      "37/37 [==============================] - 5s 135ms/step - loss: 0.2787 - acc: 0.8905 - val_loss: 0.5877 - val_acc: 0.8020\n",
      "Epoch 87/100\n",
      "37/37 [==============================] - 5s 133ms/step - loss: 0.2816 - acc: 0.8926 - val_loss: 0.5947 - val_acc: 0.7964\n",
      "Epoch 88/100\n",
      "37/37 [==============================] - 5s 133ms/step - loss: 0.2725 - acc: 0.8956 - val_loss: 0.6549 - val_acc: 0.7985\n",
      "Epoch 89/100\n",
      "37/37 [==============================] - 5s 136ms/step - loss: 0.2855 - acc: 0.8920 - val_loss: 0.6069 - val_acc: 0.8037\n",
      "Epoch 90/100\n",
      "37/37 [==============================] - 5s 134ms/step - loss: 0.2783 - acc: 0.8936 - val_loss: 0.6236 - val_acc: 0.7973\n",
      "Epoch 91/100\n",
      "37/37 [==============================] - 5s 134ms/step - loss: 0.2733 - acc: 0.8928 - val_loss: 0.6281 - val_acc: 0.7904\n",
      "Epoch 92/100\n",
      "37/37 [==============================] - 5s 135ms/step - loss: 0.2687 - acc: 0.8977 - val_loss: 0.6194 - val_acc: 0.8032\n",
      "Epoch 93/100\n",
      "37/37 [==============================] - 5s 132ms/step - loss: 0.2710 - acc: 0.8983 - val_loss: 0.6648 - val_acc: 0.7896\n",
      "Epoch 94/100\n",
      "37/37 [==============================] - 5s 134ms/step - loss: 0.2635 - acc: 0.8977 - val_loss: 0.6452 - val_acc: 0.8011\n",
      "Epoch 95/100\n",
      "37/37 [==============================] - 5s 137ms/step - loss: 0.2727 - acc: 0.8979 - val_loss: 0.6381 - val_acc: 0.7998\n",
      "Epoch 96/100\n",
      "37/37 [==============================] - 5s 134ms/step - loss: 0.2741 - acc: 0.8925 - val_loss: 0.6387 - val_acc: 0.8015\n",
      "Epoch 97/100\n",
      "37/37 [==============================] - 5s 133ms/step - loss: 0.2659 - acc: 0.8971 - val_loss: 0.6301 - val_acc: 0.7956\n",
      "Epoch 98/100\n",
      "37/37 [==============================] - 5s 136ms/step - loss: 0.2608 - acc: 0.9016 - val_loss: 0.6467 - val_acc: 0.7994\n",
      "Epoch 99/100\n",
      "37/37 [==============================] - 5s 137ms/step - loss: 0.2560 - acc: 0.9018 - val_loss: 0.6402 - val_acc: 0.7904\n",
      "Epoch 100/100\n",
      "37/37 [==============================] - 5s 134ms/step - loss: 0.2571 - acc: 0.8988 - val_loss: 0.6431 - val_acc: 0.7985\n"
     ]
    }
   ],
   "source": [
    "hist_2 = lstm_mod2.fit(X_train, y_train,\n",
    "                    validation_split = 0.2,\n",
    "                    epochs=100, batch_size=256)"
   ]
  },
  {
   "cell_type": "code",
   "execution_count": 27,
   "metadata": {},
   "outputs": [
    {
     "name": "stdout",
     "output_type": "stream",
     "text": [
      "Training Accuracy: 0.9157\n",
      "Testing Accuracy:  0.7930\n"
     ]
    }
   ],
   "source": [
    "# Find train and test accuracy\n",
    "loss, accuracy = lstm_mod2.evaluate(X_train, y_train, verbose=False)\n",
    "print(\"Training Accuracy: {:.4f}\".format(accuracy))\n",
    "loss, accuracy = lstm_mod2.evaluate(X_test, y_test, verbose=False)\n",
    "print(\"Testing Accuracy:  {:.4f}\".format(accuracy))"
   ]
  },
  {
   "cell_type": "code",
   "execution_count": 28,
   "metadata": {},
   "outputs": [
    {
     "data": {
      "image/png": "[encoded data removed]",
      "text/plain": [
       "<Figure size 432x288 with 1 Axes>"
      ]
     },
     "metadata": {
      "needs_background": "light"
     },
     "output_type": "display_data"
    },
    {
     "data": {
      "image/png": "[encoded data removed]",
      "text/plain": [
       "<Figure size 432x288 with 1 Axes>"
      ]
     },
     "metadata": {
      "needs_background": "light"
     },
     "output_type": "display_data"
    }
   ],
   "source": [
    "# Plot train/test loss and accuracy\n",
    "acc = hist_2.history['acc']\n",
    "val_acc = hist_2.history['val_acc']\n",
    "loss = hist_2.history['loss']\n",
    "val_loss = hist_2.history['val_loss']\n",
    "\n",
    "epochs = range(len(acc))\n",
    "\n",
    "plt.plot(epochs, acc, 'g', label='Training acc')\n",
    "plt.plot(epochs, val_acc, 'b', label='Validation acc')\n",
    "plt.title('Training and validation accuracy')\n",
    "plt.legend()\n",
    "\n",
    "plt.figure()\n",
    "\n",
    "plt.plot(epochs, loss, 'g', label='Training loss')\n",
    "plt.plot(epochs, val_loss, 'b', label='Validation loss')\n",
    "plt.title('Training and validation loss')\n",
    "plt.legend()\n",
    "\n",
    "plt.show()"
   ]
  },
  {
   "cell_type": "code",
   "execution_count": 29,
   "metadata": {},
   "outputs": [],
   "source": [
    "# Get predicted values\n",
    "y_pred = lstm_mod2.predict(X_test)  # outputs probabilities of each sentiment\n",
    "# Create empty numpy array to match length of training observations\n",
    "y_pred_array = np.zeros(X_test.shape[0])\n",
    "\n",
    "# Find class with highest probability\n",
    "for i in range(0, y_pred.shape[0]):\n",
    "    label_predict = np.argmax(y_pred[i]) # column with max probability\n",
    "    y_pred_array[i] = label_predict\n",
    "\n",
    "# convert to integers\n",
    "y_pred_array = y_pred_array.astype(int)"
   ]
  },
  {
   "cell_type": "code",
   "execution_count": 30,
   "metadata": {},
   "outputs": [
    {
     "name": "stdout",
     "output_type": "stream",
     "text": [
      "Confusion matrix, without normalization\n",
      "[[1686  119   65]\n",
      " [ 231  327   56]\n",
      " [  83   52  309]]\n",
      "Normalized confusion matrix\n",
      "[[0.9  0.06 0.03]\n",
      " [0.38 0.53 0.09]\n",
      " [0.19 0.12 0.7 ]]\n"
     ]
    },
    {
     "data": {
      "image/png": "[encoded data removed]",
      "text/plain": [
       "<Figure size 432x288 with 2 Axes>"
      ]
     },
     "metadata": {
      "needs_background": "light"
     },
     "output_type": "display_data"
    },
    {
     "data": {
      "image/png": "[encoded data removed]",
      "text/plain": [
       "<Figure size 432x288 with 2 Axes>"
      ]
     },
     "metadata": {
      "needs_background": "light"
     },
     "output_type": "display_data"
    }
   ],
   "source": [
    "np.set_printoptions(precision=2)\n",
    "\n",
    "# Plot non-normalized confusion matrix\n",
    "plot_confusion_matrix(y_test_array, y_pred_array, classes=class_names,\n",
    "                      title='Confusion matrix, without normalization')\n",
    "\n",
    "# Plot normalized confusion matrix\n",
    "plot_confusion_matrix(y_test_array, y_pred_array, classes=class_names, normalize=True,\n",
    "                      title='Normalized confusion matrix')\n",
    "\n",
    "plt.show()"
   ]
  },
  {
   "cell_type": "code",
   "execution_count": null,
   "metadata": {},
   "outputs": [],
   "source": []
  },
  {
   "cell_type": "code",
   "execution_count": 31,
   "metadata": {},
   "outputs": [],
   "source": [
    "# LSTM Model\n",
    "model_3 = Sequential()\n",
    "model_3.add(embedding_layer)\n",
    "model_3.add(LSTM(256, \n",
    "               dropout = 0.2, \n",
    "               recurrent_dropout = 0.5,\n",
    "                 return_sequences = True))\n",
    "model_3.add(LSTM(128,\n",
    "                dropout = 0.2,\n",
    "                recurrent_dropout = 0.5))\n",
    "model_3.add(Dense(3, activation='softmax'))\n",
    "model_3.compile(optimizer='adam', loss='categorical_crossentropy', metrics=['acc'])"
   ]
  },
  {
   "cell_type": "code",
   "execution_count": 32,
   "metadata": {},
   "outputs": [
    {
     "name": "stdout",
     "output_type": "stream",
     "text": [
      "Model: \"sequential_2\"\n",
      "_________________________________________________________________\n",
      " Layer (type)                Output Shape              Param #   \n",
      "=================================================================\n",
      " embedding (Embedding)       (None, 30, 100)           1576900   \n",
      "                                                                 \n",
      " lstm_2 (LSTM)               (None, 30, 256)           365568    \n",
      "                                                                 \n",
      " lstm_3 (LSTM)               (None, 128)               197120    \n",
      "                                                                 \n",
      " dense_2 (Dense)             (None, 3)                 387       \n",
      "                                                                 \n",
      "=================================================================\n",
      "Total params: 2,139,975\n",
      "Trainable params: 563,075\n",
      "Non-trainable params: 1,576,900\n",
      "_________________________________________________________________\n"
     ]
    }
   ],
   "source": [
    "model_3.summary()"
   ]
  },
  {
   "cell_type": "code",
   "execution_count": null,
   "metadata": {},
   "outputs": [
    {
     "name": "stdout",
     "output_type": "stream",
     "text": [
      "Epoch 1/100\n",
      "37/37 [==============================] - 51s 1s/step - loss: 0.8389 - acc: 0.6382 - val_loss: 0.7707 - val_acc: 0.6773\n",
      "Epoch 2/100\n",
      "37/37 [==============================] - 42s 1s/step - loss: 0.6851 - acc: 0.7195 - val_loss: 0.6366 - val_acc: 0.7482\n",
      "Epoch 3/100\n",
      "37/37 [==============================] - 43s 1s/step - loss: 0.6406 - acc: 0.7415 - val_loss: 0.5940 - val_acc: 0.7559\n",
      "Epoch 4/100\n",
      "37/37 [==============================] - 46s 1s/step - loss: 0.6122 - acc: 0.7480 - val_loss: 0.5803 - val_acc: 0.7636\n",
      "Epoch 5/100\n",
      "37/37 [==============================] - 46s 1s/step - loss: 0.5862 - acc: 0.7642 - val_loss: 0.6050 - val_acc: 0.7567\n",
      "Epoch 6/100\n",
      "37/37 [==============================] - 48s 1s/step - loss: 0.5760 - acc: 0.7626 - val_loss: 0.5545 - val_acc: 0.7755\n",
      "Epoch 7/100\n",
      "37/37 [==============================] - 48s 1s/step - loss: 0.5560 - acc: 0.7728 - val_loss: 0.5662 - val_acc: 0.7768\n",
      "Epoch 8/100\n",
      "37/37 [==============================] - 48s 1s/step - loss: 0.5388 - acc: 0.7795 - val_loss: 0.5762 - val_acc: 0.7768\n",
      "Epoch 9/100\n",
      "37/37 [==============================] - 48s 1s/step - loss: 0.5371 - acc: 0.7775 - val_loss: 0.5275 - val_acc: 0.7840\n",
      "Epoch 10/100\n",
      "37/37 [==============================] - 47s 1s/step - loss: 0.5127 - acc: 0.7928 - val_loss: 0.5481 - val_acc: 0.7772\n",
      "Epoch 11/100\n",
      "37/37 [==============================] - 48s 1s/step - loss: 0.5129 - acc: 0.7898 - val_loss: 0.6357 - val_acc: 0.7610\n",
      "Epoch 12/100\n",
      "37/37 [==============================] - 48s 1s/step - loss: 0.5057 - acc: 0.7934 - val_loss: 0.5728 - val_acc: 0.7776\n",
      "Epoch 13/100\n",
      "37/37 [==============================] - 48s 1s/step - loss: 0.4815 - acc: 0.8071 - val_loss: 0.5383 - val_acc: 0.7896\n",
      "Epoch 14/100\n",
      "37/37 [==============================] - 48s 1s/step - loss: 0.4684 - acc: 0.8109 - val_loss: 0.5529 - val_acc: 0.7870\n",
      "Epoch 15/100\n",
      "37/37 [==============================] - 50s 1s/step - loss: 0.4748 - acc: 0.8110 - val_loss: 0.5280 - val_acc: 0.7892\n",
      "Epoch 16/100\n",
      "37/37 [==============================] - 50s 1s/step - loss: 0.4486 - acc: 0.8194 - val_loss: 0.5275 - val_acc: 0.7926\n",
      "Epoch 17/100\n",
      "37/37 [==============================] - 50s 1s/step - loss: 0.4411 - acc: 0.8250 - val_loss: 0.5112 - val_acc: 0.7985\n",
      "Epoch 18/100\n",
      "37/37 [==============================] - 50s 1s/step - loss: 0.4262 - acc: 0.8303 - val_loss: 0.5253 - val_acc: 0.8088\n",
      "Epoch 19/100\n",
      "37/37 [==============================] - 56s 2s/step - loss: 0.4136 - acc: 0.8363 - val_loss: 0.5369 - val_acc: 0.7947\n",
      "Epoch 20/100\n",
      "37/37 [==============================] - 60s 2s/step - loss: 0.4187 - acc: 0.8303 - val_loss: 0.5362 - val_acc: 0.8003\n",
      "Epoch 21/100\n",
      "37/37 [==============================] - 60s 2s/step - loss: 0.4084 - acc: 0.8417 - val_loss: 0.5511 - val_acc: 0.8011\n",
      "Epoch 22/100\n",
      "37/37 [==============================] - 60s 2s/step - loss: 0.3949 - acc: 0.8430 - val_loss: 0.5737 - val_acc: 0.7930\n",
      "Epoch 23/100\n",
      "37/37 [==============================] - 60s 2s/step - loss: 0.3759 - acc: 0.8544 - val_loss: 0.5143 - val_acc: 0.7960\n",
      "Epoch 24/100\n",
      "37/37 [==============================] - 60s 2s/step - loss: 0.3674 - acc: 0.8557 - val_loss: 0.5612 - val_acc: 0.8020\n",
      "Epoch 25/100\n",
      "37/37 [==============================] - 61s 2s/step - loss: 0.3699 - acc: 0.8535 - val_loss: 0.5303 - val_acc: 0.8028\n",
      "Epoch 26/100\n",
      "37/37 [==============================] - 327s 9s/step - loss: 0.3478 - acc: 0.8660 - val_loss: 0.5605 - val_acc: 0.8054\n",
      "Epoch 27/100\n",
      "37/37 [==============================] - 45s 1s/step - loss: 0.3259 - acc: 0.8715 - val_loss: 0.6052 - val_acc: 0.7883\n",
      "Epoch 28/100\n",
      "37/37 [==============================] - 57s 2s/step - loss: 0.3301 - acc: 0.8698 - val_loss: 0.5855 - val_acc: 0.7939\n",
      "Epoch 29/100\n",
      "37/37 [==============================] - 61s 2s/step - loss: 0.3251 - acc: 0.8743 - val_loss: 0.5717 - val_acc: 0.7934\n",
      "Epoch 30/100\n",
      "13/37 [=========>....................] - ETA: 43s - loss: 0.2970 - acc: 0.8852"
     ]
    }
   ],
   "source": [
    "history_3 = model_3.fit(X_train, y_train,\n",
    "                    validation_split = 0.2,\n",
    "                    epochs=100, batch_size=256)"
   ]
  },
  {
   "cell_type": "code",
   "execution_count": null,
   "metadata": {},
   "outputs": [],
   "source": [
    "# Find train and test accuracy\n",
    "loss, accuracy = model_3.evaluate(X_train, y_train, verbose=False)\n",
    "print(\"Training Accuracy: {:.4f}\".format(accuracy))\n",
    "loss, accuracy = model_3.evaluate(X_test, y_test, verbose=False)\n",
    "print(\"Testing Accuracy:  {:.4f}\".format(accuracy))"
   ]
  },
  {
   "cell_type": "code",
   "execution_count": null,
   "metadata": {},
   "outputs": [],
   "source": [
    "# Plot train/test loss and accuracy\n",
    "acc = history_3.history['acc']\n",
    "val_acc = history_3.history['val_acc']\n",
    "loss = history_3.history['loss']\n",
    "val_loss = history_3.history['val_loss']\n",
    "\n",
    "epochs = range(len(acc))\n",
    "\n",
    "plt.plot(epochs, acc, 'g', label='Training acc')\n",
    "plt.plot(epochs, val_acc, 'b', label='Validation acc')\n",
    "plt.title('Training and validation accuracy')\n",
    "plt.legend()\n",
    "\n",
    "plt.figure()\n",
    "\n",
    "plt.plot(epochs, loss, 'g', label='Training loss')\n",
    "plt.plot(epochs, val_loss, 'b', label='Validation loss')\n",
    "plt.title('Training and validation loss')\n",
    "plt.legend()\n",
    "\n",
    "plt.show()"
   ]
  },
  {
   "cell_type": "code",
   "execution_count": null,
   "metadata": {},
   "outputs": [],
   "source": []
  },
  {
   "cell_type": "code",
   "execution_count": null,
   "metadata": {},
   "outputs": [],
   "source": [
    "# GRU Model 2: reduce number of epochs\n",
    "model_4 = Sequential()\n",
    "model_4.add(embedding_layer)\n",
    "model_4.add(GRU(256, \n",
    "               dropout = 0.2, \n",
    "               recurrent_dropout = 0.5,\n",
    "                 return_sequences = True))\n",
    "model_4.add(GRU(128,\n",
    "                dropout = 0.2,\n",
    "                recurrent_dropout = 0.5))\n",
    "model_4.add(Dense(3, activation='softmax'))\n",
    "model_4.compile(optimizer='adam', loss='categorical_crossentropy', metrics=['acc'])"
   ]
  },
  {
   "cell_type": "code",
   "execution_count": null,
   "metadata": {},
   "outputs": [],
   "source": [
    "model_4.summary()"
   ]
  },
  {
   "cell_type": "code",
   "execution_count": null,
   "metadata": {},
   "outputs": [],
   "source": [
    "history_4 = model_4.fit(X_train, y_train,\n",
    "                    validation_split = 0.2,\n",
    "                    epochs=100, batch_size=256)"
   ]
  },
  {
   "cell_type": "code",
   "execution_count": null,
   "metadata": {},
   "outputs": [],
   "source": [
    "loss, accuracy = model_4.evaluate(X_train, y_train, verbose=False)\n",
    "print(\"Training Accuracy: {:.4f}\".format(accuracy))\n",
    "loss, accuracy = model_4.evaluate(X_test, y_test, verbose=False)\n",
    "print(\"Testing Accuracy:  {:.4f}\".format(accuracy))"
   ]
  },
  {
   "cell_type": "code",
   "execution_count": null,
   "metadata": {},
   "outputs": [],
   "source": []
  },
  {
   "cell_type": "code",
   "execution_count": null,
   "metadata": {},
   "outputs": [],
   "source": []
  }
 ],
 "metadata": {
  "kernelspec": {
   "display_name": "Python 3 (ipykernel)",
   "language": "python",
   "name": "python3"
  },
  "language_info": {
   "codemirror_mode": {
    "name": "ipython",
    "version": 3
   },
   "file_extension": ".py",
   "mimetype": "text/x-python",
   "name": "python",
   "nbconvert_exporter": "python",
   "pygments_lexer": "ipython3",
   "version": "3.9.7"
  }
 },
 "nbformat": 4,
 "nbformat_minor": 4
}
